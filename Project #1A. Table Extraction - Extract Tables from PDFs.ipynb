{
 "cells": [
  {
   "cell_type": "markdown",
   "id": "cd73f44b",
   "metadata": {},
   "source": [
    "## Extract Tables from PDFs"
   ]
  },
  {
   "cell_type": "code",
   "execution_count": 13,
   "id": "715b422c",
   "metadata": {},
   "outputs": [
    {
     "name": "stdout",
     "output_type": "stream",
     "text": [
      "Requirement already satisfied: pdfplumber in c:\\users\\akrjha\\anaconda3\\lib\\site-packages (0.10.4)\n",
      "Requirement already satisfied: Pillow>=9.1 in c:\\users\\akrjha\\anaconda3\\lib\\site-packages (from pdfplumber) (10.2.0)\n",
      "Requirement already satisfied: pypdfium2>=4.18.0 in c:\\users\\akrjha\\anaconda3\\lib\\site-packages (from pdfplumber) (4.27.0)\n",
      "Requirement already satisfied: pdfminer.six==20221105 in c:\\users\\akrjha\\anaconda3\\lib\\site-packages (from pdfplumber) (20221105)\n",
      "Requirement already satisfied: charset-normalizer>=2.0.0 in c:\\users\\akrjha\\anaconda3\\lib\\site-packages (from pdfminer.six==20221105->pdfplumber) (2.0.4)\n",
      "Requirement already satisfied: cryptography>=36.0.0 in c:\\users\\akrjha\\anaconda3\\lib\\site-packages (from pdfminer.six==20221105->pdfplumber) (42.0.5)\n",
      "Requirement already satisfied: cffi>=1.12 in c:\\users\\akrjha\\anaconda3\\lib\\site-packages (from cryptography>=36.0.0->pdfminer.six==20221105->pdfplumber) (1.15.0)\n",
      "Requirement already satisfied: pycparser in c:\\users\\akrjha\\anaconda3\\lib\\site-packages (from cffi>=1.12->cryptography>=36.0.0->pdfminer.six==20221105->pdfplumber) (2.21)\n"
     ]
    }
   ],
   "source": [
    "!pip install pdfplumber\n"
   ]
  },
  {
   "cell_type": "code",
   "execution_count": 15,
   "id": "4e576442",
   "metadata": {},
   "outputs": [],
   "source": [
    "import pdfplumber"
   ]
  },
  {
   "cell_type": "code",
   "execution_count": 35,
   "id": "a10e1c40",
   "metadata": {},
   "outputs": [
    {
     "name": "stdout",
     "output_type": "stream",
     "text": [
      "[['Cycle\\nName', 'KI\\n(1/km)', 'Distance\\n(mi)', 'Percent Fuel Savings', None, None, None], [None, None, None, 'Improved\\nSpeed', 'Decreased\\nAccel', 'Eliminate\\nStops', 'Decreased\\nIdle'], ['2012_2', '3.30', '1.3', '5.9%', '9.5%', '29.2%', '17.4%'], ['2145_1', '0.68', '11.2', '2.4%', '0.1%', '9.5%', '2.7%'], ['4234_1', '0.59', '58.7', '8.5%', '1.3%', '8.5%', '3.3%'], ['2032_2', '0.17', '57.8', '21.7%', '0.3%', '2.7%', '1.2%'], ['4171_1', '0.07', '173.9', '58.1%', '1.6%', '2.1%', '0.5%']]\n"
     ]
    }
   ],
   "source": [
    "# Open the PDF file\n",
    "with pdfplumber.open('C:/Users/akrjha/Downloads/foo.pdf') as pdf:\n",
    "# Extract tables from the first page\n",
    "    tables = pdf.pages[0].extract_tables()\n",
    "\n",
    "# Print the extracted tables\n",
    "print(tables[0])\n"
   ]
  },
  {
   "cell_type": "code",
   "execution_count": null,
   "id": "59cb4b69",
   "metadata": {},
   "outputs": [],
   "source": []
  }
 ],
 "metadata": {
  "kernelspec": {
   "display_name": "Python 3 (ipykernel)",
   "language": "python",
   "name": "python3"
  },
  "language_info": {
   "codemirror_mode": {
    "name": "ipython",
    "version": 3
   },
   "file_extension": ".py",
   "mimetype": "text/x-python",
   "name": "python",
   "nbconvert_exporter": "python",
   "pygments_lexer": "ipython3",
   "version": "3.9.12"
  }
 },
 "nbformat": 4,
 "nbformat_minor": 5
}
