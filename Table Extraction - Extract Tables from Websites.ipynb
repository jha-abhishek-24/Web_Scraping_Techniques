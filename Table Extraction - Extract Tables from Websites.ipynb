{
 "cells": [
  {
   "cell_type": "code",
   "execution_count": 46,
   "id": "6287d022",
   "metadata": {},
   "outputs": [],
   "source": [
    "try:\n",
    "  import pandas as pd\n",
    "except ImportError:\n",
    "  !pip install pandas  # Install pandas if not found\n",
    "  import pandas as pd  # Retry import after installation\n",
    "\n"
   ]
  },
  {
   "cell_type": "code",
   "execution_count": 47,
   "id": "a84ebb83",
   "metadata": {},
   "outputs": [],
   "source": [
    "simpson_table = pd.read_html('https://simple.wikipedia.org/wiki/List_of_The_Simpsons_episodes') \n",
    "# pd.read_html is specifically designed to extract tabular data."
   ]
  },
  {
   "cell_type": "code",
   "execution_count": 48,
   "id": "188888a1",
   "metadata": {},
   "outputs": [
    {
     "data": {
      "text/plain": [
       "41"
      ]
     },
     "execution_count": 48,
     "metadata": {},
     "output_type": "execute_result"
    }
   ],
   "source": [
    "len(simpson_table) \n",
    "# to get number of tables in simpson_table"
   ]
  },
  {
   "cell_type": "code",
   "execution_count": 49,
   "id": "ab0b63d0",
   "metadata": {},
   "outputs": [],
   "source": [
    " season_1_details = simpson_table[5]\n",
    "# out of 41, 5th table is the table related to season 1 "
   ]
  },
  {
   "cell_type": "code",
   "execution_count": 50,
   "id": "1c4161a6",
   "metadata": {},
   "outputs": [
    {
     "data": {
      "text/html": [
       "<div>\n",
       "<style scoped>\n",
       "    .dataframe tbody tr th:only-of-type {\n",
       "        vertical-align: middle;\n",
       "    }\n",
       "\n",
       "    .dataframe tbody tr th {\n",
       "        vertical-align: top;\n",
       "    }\n",
       "\n",
       "    .dataframe thead th {\n",
       "        text-align: right;\n",
       "    }\n",
       "</style>\n",
       "<table border=\"1\" class=\"dataframe\">\n",
       "  <thead>\n",
       "    <tr style=\"text-align: right;\">\n",
       "      <th></th>\n",
       "      <th>#</th>\n",
       "      <th>Original airdate</th>\n",
       "      <th>Prod. Code</th>\n",
       "      <th>Title</th>\n",
       "    </tr>\n",
       "  </thead>\n",
       "  <tbody>\n",
       "    <tr>\n",
       "      <th>0</th>\n",
       "      <td>1 - 101</td>\n",
       "      <td>December 17, 1989</td>\n",
       "      <td>7E13</td>\n",
       "      <td>\"Simpsons Roasting On An Open Fire\"</td>\n",
       "    </tr>\n",
       "    <tr>\n",
       "      <th>1</th>\n",
       "      <td>2 - 102</td>\n",
       "      <td>January 14, 1990</td>\n",
       "      <td>7G01</td>\n",
       "      <td>\"Bart the Genius\"</td>\n",
       "    </tr>\n",
       "    <tr>\n",
       "      <th>2</th>\n",
       "      <td>3 - 103</td>\n",
       "      <td>January 21, 1990</td>\n",
       "      <td>7G02</td>\n",
       "      <td>\"Homer's Odyssey\"</td>\n",
       "    </tr>\n",
       "    <tr>\n",
       "      <th>3</th>\n",
       "      <td>4 - 104</td>\n",
       "      <td>January 28, 1990</td>\n",
       "      <td>7G03</td>\n",
       "      <td>\"There's No Disgrace Like Home\"</td>\n",
       "    </tr>\n",
       "    <tr>\n",
       "      <th>4</th>\n",
       "      <td>5 - 105</td>\n",
       "      <td>February 4, 1990</td>\n",
       "      <td>7G04</td>\n",
       "      <td>\"Bart the General\"</td>\n",
       "    </tr>\n",
       "    <tr>\n",
       "      <th>5</th>\n",
       "      <td>6 - 106</td>\n",
       "      <td>February 11, 1990</td>\n",
       "      <td>7G06</td>\n",
       "      <td>\"Moaning Lisa\"</td>\n",
       "    </tr>\n",
       "    <tr>\n",
       "      <th>6</th>\n",
       "      <td>7 - 107</td>\n",
       "      <td>February 18, 1990</td>\n",
       "      <td>7G05</td>\n",
       "      <td>\"The Call of the Simpsons\"</td>\n",
       "    </tr>\n",
       "    <tr>\n",
       "      <th>7</th>\n",
       "      <td>8 - 108</td>\n",
       "      <td>February 25, 1990</td>\n",
       "      <td>7G07</td>\n",
       "      <td>\"The Telltale Head\"</td>\n",
       "    </tr>\n",
       "    <tr>\n",
       "      <th>8</th>\n",
       "      <td>9 - 109</td>\n",
       "      <td>March 18, 1990</td>\n",
       "      <td>7G08</td>\n",
       "      <td>\"Life on the Fast Lane\"</td>\n",
       "    </tr>\n",
       "    <tr>\n",
       "      <th>9</th>\n",
       "      <td>10 - 110</td>\n",
       "      <td>March 25, 1990</td>\n",
       "      <td>7G09</td>\n",
       "      <td>\"Homer's Night Out\"</td>\n",
       "    </tr>\n",
       "    <tr>\n",
       "      <th>10</th>\n",
       "      <td>11 - 111</td>\n",
       "      <td>April 15, 1990</td>\n",
       "      <td>7G13</td>\n",
       "      <td>\"The Crepes of Wrath\"</td>\n",
       "    </tr>\n",
       "    <tr>\n",
       "      <th>11</th>\n",
       "      <td>12 - 112</td>\n",
       "      <td>April 29, 1990</td>\n",
       "      <td>7F02</td>\n",
       "      <td>\"Krusty Gets Busted\"</td>\n",
       "    </tr>\n",
       "    <tr>\n",
       "      <th>12</th>\n",
       "      <td>13 - 113</td>\n",
       "      <td>May 13, 1990</td>\n",
       "      <td>7F01</td>\n",
       "      <td>\"Some Enchanted Evening\"</td>\n",
       "    </tr>\n",
       "  </tbody>\n",
       "</table>\n",
       "</div>"
      ],
      "text/plain": [
       "           #   Original airdate Prod. Code  \\\n",
       "0    1 - 101  December 17, 1989       7E13   \n",
       "1    2 - 102   January 14, 1990       7G01   \n",
       "2    3 - 103   January 21, 1990       7G02   \n",
       "3    4 - 104   January 28, 1990       7G03   \n",
       "4    5 - 105   February 4, 1990       7G04   \n",
       "5    6 - 106  February 11, 1990       7G06   \n",
       "6    7 - 107  February 18, 1990       7G05   \n",
       "7    8 - 108  February 25, 1990       7G07   \n",
       "8    9 - 109     March 18, 1990       7G08   \n",
       "9   10 - 110     March 25, 1990       7G09   \n",
       "10  11 - 111     April 15, 1990       7G13   \n",
       "11  12 - 112     April 29, 1990       7F02   \n",
       "12  13 - 113       May 13, 1990       7F01   \n",
       "\n",
       "                                  Title  \n",
       "0   \"Simpsons Roasting On An Open Fire\"  \n",
       "1                     \"Bart the Genius\"  \n",
       "2                     \"Homer's Odyssey\"  \n",
       "3       \"There's No Disgrace Like Home\"  \n",
       "4                    \"Bart the General\"  \n",
       "5                        \"Moaning Lisa\"  \n",
       "6            \"The Call of the Simpsons\"  \n",
       "7                   \"The Telltale Head\"  \n",
       "8               \"Life on the Fast Lane\"  \n",
       "9                   \"Homer's Night Out\"  \n",
       "10                \"The Crepes of Wrath\"  \n",
       "11                 \"Krusty Gets Busted\"  \n",
       "12             \"Some Enchanted Evening\"  "
      ]
     },
     "execution_count": 50,
     "metadata": {},
     "output_type": "execute_result"
    }
   ],
   "source": [
    "season_1_details"
   ]
  },
  {
   "cell_type": "code",
   "execution_count": null,
   "id": "601b938f",
   "metadata": {},
   "outputs": [],
   "source": []
  }
 ],
 "metadata": {
  "kernelspec": {
   "display_name": "Python 3 (ipykernel)",
   "language": "python",
   "name": "python3"
  },
  "language_info": {
   "codemirror_mode": {
    "name": "ipython",
    "version": 3
   },
   "file_extension": ".py",
   "mimetype": "text/x-python",
   "name": "python",
   "nbconvert_exporter": "python",
   "pygments_lexer": "ipython3",
   "version": "3.9.12"
  }
 },
 "nbformat": 4,
 "nbformat_minor": 5
}
